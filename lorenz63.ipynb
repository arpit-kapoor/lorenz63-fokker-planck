{
 "cells": [
  {
   "cell_type": "code",
   "execution_count": 1,
   "metadata": {},
   "outputs": [],
   "source": [
    "import numpy as np\n",
    "import matplotlib.pyplot as plt\n",
    "import scipy.constants as sc\n",
    "from matplotlib.animation import FFMpegWriter, FuncAnimation\n",
    "from fplanck import fokker_planck, boundary, gaussian_pdf\n",
    "from mpl_toolkits.mplot3d import Axes3D"
   ]
  },
  {
   "cell_type": "code",
   "execution_count": 2,
   "metadata": {},
   "outputs": [],
   "source": [
    "dims = 3\n",
    "s = 10\n",
    "r = 28\n",
    "b = 8/3\n",
    "sigma = np.ones(dims) * 4/5"
   ]
  },
  {
   "cell_type": "code",
   "execution_count": 3,
   "metadata": {},
   "outputs": [],
   "source": [
    "T = 0.5 * np.square(sigma)/sc.k\n",
    "drag = np.ones(dims)"
   ]
  },
  {
   "cell_type": "code",
   "execution_count": 4,
   "metadata": {},
   "outputs": [],
   "source": [
    "def force(x1, x2, x3):\n",
    "    nu1 = -s * (x1 - x2)\n",
    "    nu2 = r * x1 - x2 - x1 * x3\n",
    "    nu3 = x1 * x2 - b * x3\n",
    "    return np.stack([nu1, nu2, nu3])"
   ]
  },
  {
   "cell_type": "code",
   "execution_count": 5,
   "metadata": {},
   "outputs": [],
   "source": [
    "extent = np.ones(dims) * 5\n",
    "resolution = np.ones(dims) * 0.1\n",
    "sim = fokker_planck(temperature=T, drag=drag, extent=extent,\n",
    "            resolution=resolution, force=force)"
   ]
  },
  {
   "cell_type": "code",
   "execution_count": 6,
   "metadata": {},
   "outputs": [],
   "source": [
    "### time-evolved solution\n",
    "pdf = gaussian_pdf(center=(1.5, -1.5, 1.5), width=1)\n",
    "p0 = pdf(*sim.grid)\n",
    "\n",
    "Nsteps = 100\n",
    "time, Pt = sim.propagate_interval(pdf, 1e-2, Nsteps=Nsteps)"
   ]
  },
  {
   "cell_type": "code",
   "execution_count": 7,
   "metadata": {},
   "outputs": [],
   "source": [
    "import matplotlib.colors\n",
    "cmap = plt.cm.viridis"
   ]
  },
  {
   "cell_type": "code",
   "execution_count": 8,
   "metadata": {},
   "outputs": [
    {
     "name": "stdout",
     "output_type": "stream",
     "text": [
      "0\n",
      "0\n",
      "1\n",
      "2\n",
      "3\n",
      "4\n",
      "5\n",
      "6\n",
      "7\n",
      "8\n",
      "9\n",
      "10\n",
      "11\n",
      "12\n",
      "13\n",
      "14\n",
      "15\n",
      "16\n",
      "17\n",
      "18\n",
      "19\n",
      "20\n",
      "21\n",
      "22\n",
      "23\n",
      "24\n",
      "25\n",
      "26\n",
      "27\n",
      "28\n",
      "29\n",
      "30\n",
      "31\n",
      "32\n"
     ]
    }
   ],
   "source": [
    "import sys\n",
    "\n",
    "fig, ax = plt.subplots(subplot_kw=dict(projection='3d'), constrained_layout=True)\n",
    "\n",
    "x = sim.grid[0].ravel()\n",
    "y = sim.grid[1].ravel()\n",
    "z = sim.grid[2].ravel()\n",
    "p0 = p0.ravel()\n",
    "\n",
    "norm = matplotlib.colors.Normalize(vmin=p0.min(), vmax=p0.max())\n",
    "scat = ax.scatter(x, y, z, color=cmap(norm(p0)), alpha=0.1)\n",
    "\n",
    "# ax.set_zlim([0,np.max(Pt)/3])\n",
    "ax.autoscale(False)\n",
    "\n",
    "def update(i):\n",
    "    global scat\n",
    "    scat.remove()\n",
    "    scat = ax.scatter(x, y, z, color=cmap(norm(Pt[i].ravel())), alpha=0.1)\n",
    "    return [scat]\n",
    "\n",
    "anim = FuncAnimation(fig, update, frames=range(Nsteps), interval=10)\n",
    "ax.set(xlabel='x1', ylabel='x2', zlabel='x3')\n",
    "\n",
    "# # saving to m4 using ffmpeg writer\n",
    "writervideo = FFMpegWriter(fps=60)\n",
    "anim.save('/project/fokkerplanckgauss.mp4', writer=writervideo)\n",
    "\n",
    "plt.close()"
   ]
  },
  {
   "cell_type": "code",
   "execution_count": null,
   "metadata": {},
   "outputs": [],
   "source": []
  }
 ],
 "metadata": {
  "kernelspec": {
   "display_name": "base",
   "language": "python",
   "name": "python3"
  },
  "language_info": {
   "codemirror_mode": {
    "name": "ipython",
    "version": 3
   },
   "file_extension": ".py",
   "mimetype": "text/x-python",
   "name": "python",
   "nbconvert_exporter": "python",
   "pygments_lexer": "ipython3",
   "version": "3.9.15"
  },
  "orig_nbformat": 4
 },
 "nbformat": 4,
 "nbformat_minor": 2
}
