{
 "cells": [
  {
   "cell_type": "code",
   "execution_count": 3,
   "metadata": {},
   "outputs": [],
   "source": [
    "import jax \n",
    "import numpy as np\n",
    "import jax.numpy as jnp\n",
    "\n",
    "from jax import random\n",
    "from tqdm import tqdm\n",
    "\n",
    "import matplotlib.pyplot as plt\n",
    "import matplotlib as mlp\n",
    "from matplotlib.animation import FFMpegWriter, FuncAnimation\n",
    "\n",
    "\n",
    "cmap = plt.cm.viridis"
   ]
  },
  {
   "cell_type": "code",
   "execution_count": 4,
   "metadata": {},
   "outputs": [
    {
     "name": "stderr",
     "output_type": "stream",
     "text": [
      "No GPU/TPU found, falling back to CPU. (Set TF_CPP_MIN_LOG_LEVEL=0 and rerun for more info.)\n"
     ]
    }
   ],
   "source": [
    "## Lorenz parameters\n",
    "S = 10\n",
    "R = 28\n",
    "B = 8/3\n",
    "\n",
    "## Simulation parameters\n",
    "h = 1e-3                            # time step for euler discretisation \n",
    "c = 1/10                            # parameter in obs operator  \n",
    "M = 40;\t\t\t\t\t\t\t    # gap between observations (in multiples of h)\n",
    "Tf = 20;\t\t\t\t\t\t\t# final time\n",
    "NT = int(Tf/h);  #1+floor(Tf/h);\t# no. of discrete time steps\n",
    "sx = 0.05;\t\t\t\t\t\t\t# scale of signal noise\n",
    "sy = 1;                             # std of observation noise\n",
    "s2o = 1;\t\t\t\t\t\t\t# initial variance\n",
    "#NR = 1;                             # no. of repetitions of the simulation\n",
    "#sw = [1 1];                        # algorithms to run: sw(1) is BF, sw(2) is CKF\n",
    "npts = 20;                          # no. of points in each dimension in grid\n",
    "NP = 1000;                          # no. of particles, needs to be increased to 10^6 \n",
    "d = 3;                              # dimension of state vector \n",
    "p = 2;                              # dimension of observation vector \n",
    "comppost = 1;                       #= 1 means to compute posterior, = 0 means only compute fokker planck\n",
    "XR0 = jnp.array([[-5.91652], [-5.52332], [24.5723]])               # reference initial condition (also prior mean)\n",
    "\n",
    "XR02 = jnp.array([[5.91652], [5.52332], [24.5723]])               # other mode of initial distribution \n",
    "\n",
    "ZR0 = jnp.zeros((p, 1))\n",
    "\n",
    "\n",
    "# Grid extents\n",
    "extents = jnp.array([[-20, 20],\n",
    "                     [-30, 20],\n",
    "                     [0, 50]])"
   ]
  },
  {
   "cell_type": "code",
   "execution_count": 5,
   "metadata": {},
   "outputs": [],
   "source": [
    "idy = jnp.arange(0, NT, M)"
   ]
  },
  {
   "cell_type": "markdown",
   "metadata": {},
   "source": [
    "$$\n",
    "\\nu(\\mathbf{x}) = A_1 \\mathbf{x} + \\mathbf{x}^T A_2 \\mathbf{x} a_1^T +  \\mathbf{x}^T A_3  \\mathbf{x} a_2^T\n",
    "$$"
   ]
  },
  {
   "cell_type": "code",
   "execution_count": 6,
   "metadata": {},
   "outputs": [],
   "source": [
    "import time\n",
    "key = random.PRNGKey(int(time.time()))  # Random seed is explicit in JAX"
   ]
  },
  {
   "cell_type": "code",
   "execution_count": 7,
   "metadata": {},
   "outputs": [],
   "source": [
    "# Matrices\n",
    "A1 = jnp.array([[-S, S, 0], [R, -1, 0], [0, 0, -B]])\n",
    "A2 = jnp.zeros((3, 3)).at[0, 2].set(-1)\n",
    "A3 = jnp.zeros((3, 3)).at[0, 1].set(1)\n",
    "\n",
    "# Vectors\n",
    "a1 = jnp.zeros((3, 1)).at[1, 0].set(1)\n",
    "a2 = jnp.zeros((3, 1)).at[2, 0].set(1)\n",
    "\n",
    "@jax.jit\n",
    "def nu(X):\n",
    "    mat1  = A1 @ X\n",
    "    mat2 = jnp.sum((X.T @ A2) * X.T, axis=1) * a1\n",
    "    mat3 = jnp.sum((X.T @ A3) * X.T, axis=1) * a2\n",
    "    return  mat1 + mat2 + mat3\n",
    "\n",
    "@jax.jit\n",
    "def hobs_l63(X, c):\n",
    "    Z0 = c*X[0, :]*X[1,:]\n",
    "    Z1 = c*X[2, :]\n",
    "    Z = jnp.stack([Z0, Z1], axis=0)\n",
    "    return Z"
   ]
  },
  {
   "cell_type": "code",
   "execution_count": 8,
   "metadata": {},
   "outputs": [],
   "source": [
    "@jax.jit\n",
    "def time_update(carry, t):\n",
    "    \n",
    "    key = random.PRNGKey(int(time.time()))\n",
    "    carry['ZT'] = carry['ZT'] + h*hobs_l63(carry['XT'], c) +\\\n",
    "                                np.sqrt(h)*random.normal(key=key,\n",
    "                                                        shape=(p,1))\n",
    "    \n",
    "    key = random.PRNGKey(int(time.time()))\n",
    "    carry['XT'] = carry['XT'] + h*nu(carry['XT']) +\\\n",
    "                                sx*np.sqrt(h)*random.normal(key=key, \n",
    "                                                            shape=(d, 1))\n",
    "\n",
    "    return carry, carry\n"
   ]
  },
  {
   "cell_type": "code",
   "execution_count": 9,
   "metadata": {},
   "outputs": [],
   "source": [
    "# Define timesteps and carry vectors\n",
    "t = jnp.arange(NT)\n",
    "carry = {\n",
    "    'XT': XR0,\n",
    "    'ZT': ZR0\n",
    "}\n",
    "\n",
    "# Lorenz 63 simulation\n",
    "carry_out, out = jax.lax.scan(time_update, carry, t)\n",
    "\n",
    "# Process outputs\n",
    "XR = out['XT'].T.reshape((d, -1))\n",
    "ZR = out['ZT'].T.reshape((p, -1))"
   ]
  },
  {
   "cell_type": "code",
   "execution_count": null,
   "metadata": {},
   "outputs": [],
   "source": []
  },
  {
   "cell_type": "code",
   "execution_count": null,
   "metadata": {},
   "outputs": [],
   "source": []
  },
  {
   "cell_type": "code",
   "execution_count": null,
   "metadata": {},
   "outputs": [],
   "source": []
  },
  {
   "cell_type": "code",
   "execution_count": null,
   "metadata": {},
   "outputs": [],
   "source": []
  },
  {
   "cell_type": "code",
   "execution_count": null,
   "metadata": {},
   "outputs": [],
   "source": []
  },
  {
   "cell_type": "code",
   "execution_count": null,
   "metadata": {},
   "outputs": [],
   "source": []
  },
  {
   "cell_type": "code",
   "execution_count": 10,
   "metadata": {},
   "outputs": [],
   "source": [
    "# Mesh grid\n",
    "points = [jnp.linspace(*extents[i], npts) for i in range(d)]\n",
    "mesh = jnp.stack(jnp.meshgrid(*points), axis=-1)"
   ]
  },
  {
   "cell_type": "code",
   "execution_count": 11,
   "metadata": {},
   "outputs": [],
   "source": [
    "@jax.jit\n",
    "def evolve_particles(carry, ts):\n",
    "    XT = carry['XT']\n",
    "    carry['XT'] = XT + h*nu(XT) + sx*np.sqrt(h)*random.normal(key=key, shape=(d, NP))\n",
    "    return carry, XT\n",
    "\n",
    "@jax.jit\n",
    "def computepdf(X):\n",
    "    bw = 0.1\n",
    "    return jax.scipy.stats.multivariate_normal.pdf(\n",
    "                mesh, mean=X, cov=bw*jnp.identity(d)\n",
    "    )\n",
    "\n",
    "@jax.jit\n",
    "def fokker_planck(carry, idx):\n",
    "    ts = jnp.arange(M)\n",
    "    carry, _ = jax.lax.scan(evolve_particles, carry, ts)\n",
    "    carry['priorpdf'] = jnp.apply_along_axis(computepdf, \n",
    "                                             axis=0, \n",
    "                                             arr=carry['XT']).sum(axis=-1)\n",
    "    return carry, carry['priorpdf']\n"
   ]
  },
  {
   "cell_type": "code",
   "execution_count": 12,
   "metadata": {},
   "outputs": [],
   "source": [
    "# Initial pdf\n",
    "cov = jnp.identity(d) * s2o\n",
    "XP1 = random.multivariate_normal(mean=XR0.flatten(), \n",
    "                           cov=cov, \n",
    "                           shape=(int(NP/2),), \n",
    "                           key=key).T\n",
    "XP2 = random.multivariate_normal(mean=XR02.flatten(), \n",
    "                           cov=cov, \n",
    "                           shape=(int(NP/2),), \n",
    "                           key=key).T\n",
    "\n",
    "XP = jnp.concatenate([XP1, XP2], axis=1)\n",
    "priorpdf = jnp.apply_along_axis(computepdf, axis=0, arr=XP).sum(axis=-1)\n",
    "\n",
    "# Define timesteps and carry vectors\n",
    "idx = jnp.arange(len(idy)-1)\n",
    "carry = {\n",
    "    'XT': XP,\n",
    "    'priorpdf': priorpdf\n",
    "}\n",
    "\n",
    "carry_out, priorpdfout = jax.lax.scan(fokker_planck, carry, idx)\n",
    "\n",
    "\n",
    "# Xtrue = XR[:, idy]\n",
    "\n",
    "\n",
    "# XT = carry_out['XT']"
   ]
  },
  {
   "cell_type": "code",
   "execution_count": null,
   "metadata": {},
   "outputs": [],
   "source": []
  },
  {
   "cell_type": "code",
   "execution_count": 13,
   "metadata": {},
   "outputs": [],
   "source": [
    "# %step 3. multiply by likelihood to get posterior: \n",
    "ZL = ZR[:, idy]\n",
    "dpoints = mesh.transpose((3, 0, 1, 2)).reshape((d, -1))\n",
    "\n",
    "hdpts = hobs_l63(dpoints, c)  #convert to observation space \n",
    "y = jnp.expand_dims(jnp.diff(ZL, axis=1).T/(M*h), axis=-1)\n",
    "\n",
    "correc = jnp.exp(-0.5*(M*h)*jnp.square(jnp.repeat(y, hdpts.shape[-1], axis=-1) - hdpts).sum(axis=1))\n",
    "correc = correc.reshape((-1, npts, npts, npts))\n",
    "proppdf = priorpdfout * correc\n"
   ]
  },
  {
   "cell_type": "code",
   "execution_count": 14,
   "metadata": {},
   "outputs": [],
   "source": [
    "xmesh = mesh[:, :, :, 0]\n",
    "ymesh = mesh[:, :, :, 1]\n",
    "zmesh = mesh[:, :, :, 2]\n",
    "\n",
    "x = xmesh.ravel()\n",
    "y = ymesh.ravel()\n",
    "z = zmesh.ravel()"
   ]
  },
  {
   "cell_type": "code",
   "execution_count": 15,
   "metadata": {},
   "outputs": [],
   "source": [
    "def scale(x):\n",
    "    x_max = x.max()\n",
    "    x_min = x.min()\n",
    "    return (x - x_min)/(x_max - x_min)"
   ]
  },
  {
   "cell_type": "code",
   "execution_count": 31,
   "metadata": {},
   "outputs": [],
   "source": [
    "def plot_pdf(xs, ys, zs, p0, pn, name='plot.gif'):\n",
    "    \n",
    "    fig, ax = plt.subplots(subplot_kw=dict(projection='3d'), \n",
    "                           constrained_layout=True)\n",
    "\n",
    "    norm = mlp.colors.Normalize(vmin=p0.min(), vmax=p0.max())\n",
    "    scat = ax.scatter(x, y, z, s=scale(p0)*2000, \n",
    "                               color=cmap(norm(p0)), \n",
    "                               alpha=0.5)\n",
    "\n",
    "    # ax.set_zlim([0,np.max(Pt)/3])\n",
    "    ax.autoscale(False)\n",
    "\n",
    "    def update(i):\n",
    "        norm = mlp.colors.Normalize(vmin=pn[i].min(), \n",
    "                                    vmax=pn[i].max())\n",
    "        scat._offsets3d = (x, y, z)\n",
    "        scat.set_color(cmap(norm(pn[i].ravel())))\n",
    "        scat.set_sizes(scale(pn[i].flatten())*1000)\n",
    "        return [scat]\n",
    "\n",
    "    anim = FuncAnimation(fig, update, frames=tqdm(range(len(pn))), interval=1)\n",
    "    ax.set(xlabel='x1', ylabel='x2', zlabel='x3')\n",
    "\n",
    "    # # saving to m4 using ffmpeg writer\n",
    "    anim.save(name, fps=60) \n",
    "\n",
    "    plt.close()"
   ]
  },
  {
   "cell_type": "code",
   "execution_count": 32,
   "metadata": {},
   "outputs": [
    {
     "name": "stderr",
     "output_type": "stream",
     "text": [
      "  0%|          | 0/499 [00:00<?, ?it/s]"
     ]
    },
    {
     "name": "stderr",
     "output_type": "stream",
     "text": [
      "100%|█████████▉| 498/499 [02:58<00:00,  3.22it/s]"
     ]
    }
   ],
   "source": [
    "p0 = priorpdf.ravel()\n",
    "plot_pdf(x, y, z, p0, priorpdfout, '/project/mcsim/prior.gif')"
   ]
  },
  {
   "cell_type": "code",
   "execution_count": 34,
   "metadata": {},
   "outputs": [
    {
     "name": "stderr",
     "output_type": "stream",
     "text": []
    },
    {
     "name": "stderr",
     "output_type": "stream",
     "text": [
      "100%|█████████▉| 498/499 [06:12<00:00,  1.34it/s]\n"
     ]
    }
   ],
   "source": [
    "plot_pdf(x, y, z, p0, proppdf, '/project/mcsim/post.gif')"
   ]
  },
  {
   "cell_type": "code",
   "execution_count": null,
   "metadata": {},
   "outputs": [],
   "source": []
  }
 ],
 "metadata": {
  "kernelspec": {
   "display_name": "base",
   "language": "python",
   "name": "python3"
  },
  "language_info": {
   "codemirror_mode": {
    "name": "ipython",
    "version": 3
   },
   "file_extension": ".py",
   "mimetype": "text/x-python",
   "name": "python",
   "nbconvert_exporter": "python",
   "pygments_lexer": "ipython3",
   "version": "3.9.15"
  },
  "orig_nbformat": 4
 },
 "nbformat": 4,
 "nbformat_minor": 2
}
